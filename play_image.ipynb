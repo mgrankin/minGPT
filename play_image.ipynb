{
 "cells": [
  {
   "cell_type": "markdown",
   "metadata": {},
   "source": [
    "## Train GPT on images\n",
    "\n",
    "Effectively re-implements OpenAI's [Image GPT](https://openai.com/blog/image-gpt/) model, getting GPT to model images instead of text, but using a near identical model. It's truly quite remarkable that a single model can agnostically do a great job modeling whatever data you give it: text, images, or whatever else. At the end of the day it is just a sequence of integers. Notice that unlike models like PixelCNN++ etc, this model knows nothing at all about the spatial layout of the pixels and has to learn the appropriate positional embeddings that reflect the spatial topology of the data."
   ]
  },
  {
   "cell_type": "code",
   "execution_count": 1,
   "metadata": {},
   "outputs": [],
   "source": [
    "import os\n",
    "os.environ[\"CUDA_DEVICE_ORDER\"]=\"PCI_BUS_ID\"\n",
    "os.environ[\"CUDA_VISIBLE_DEVICES\"]=\"0,2,3\""
   ]
  },
  {
   "cell_type": "code",
   "execution_count": 2,
   "metadata": {},
   "outputs": [],
   "source": [
    "import numpy as np\n",
    "import torchvision\n",
    "import torch\n",
    "import matplotlib.pyplot as plt\n",
    "%matplotlib inline"
   ]
  },
  {
   "cell_type": "code",
   "execution_count": 3,
   "metadata": {},
   "outputs": [],
   "source": [
    "# set up logging\n",
    "import logging\n",
    "logging.basicConfig(\n",
    "        format=\"%(asctime)s - %(levelname)s - %(name)s -   %(message)s\",\n",
    "        datefmt=\"%m/%d/%Y %H:%M:%S\",\n",
    "        level=logging.INFO,\n",
    ")"
   ]
  },
  {
   "cell_type": "code",
   "execution_count": 4,
   "metadata": {},
   "outputs": [],
   "source": [
    "# make deterministic\n",
    "from mingpt.utils import set_seed\n",
    "set_seed(42)"
   ]
  },
  {
   "cell_type": "code",
   "execution_count": 5,
   "metadata": {},
   "outputs": [],
   "source": [
    "import jax\n",
    "import jax.numpy as jnp\n",
    "import haiku as hk\n",
    "from functools import partial\n",
    "import torch\n",
    "from torch.utils.data import Dataset"
   ]
  },
  {
   "cell_type": "code",
   "execution_count": 6,
   "metadata": {},
   "outputs": [
    {
     "name": "stdout",
     "output_type": "stream",
     "text": [
      "Files already downloaded and verified\n",
      "Files already downloaded and verified\n",
      "50000 10000\n"
     ]
    }
   ],
   "source": [
    "# pytorch helpfully makes it easy to download datasets, e.g. the common CIFAR-10 https://www.kaggle.com/c/cifar-10\n",
    "root = './'\n",
    "train_data = torchvision.datasets.CIFAR10(root, train=True, transform=None, target_transform=None, download=True)\n",
    "test_data  = torchvision.datasets.CIFAR10(root, train=False, transform=None, target_transform=None, download=True)\n",
    "print(len(train_data), len(test_data))"
   ]
  },
  {
   "cell_type": "markdown",
   "metadata": {},
   "source": [
    "Images are represented as array of size (height, width, 3), where is the RGB values, each is a uint8 in range 0..255. In CIFAR-10 for example, the height and width are both 32. \n",
    "\n",
    "**naive strategy**\n",
    "Now, to feed images into GPT we have to somehow turn every image into a sequence of integers. Since each image is 32\\*32\\*3 = 3072 uint8s, in principle we could just flatten each image out into a 3072-long sequence of numbers from 0..255 and train GPT on that. Note that we are free to feed this into GPT in any random arbitrary order, as long as the encoding order is fixed for all images. The problem with this is that GPT gets very expensive as you grow the sequence size, since each new predicted integer is a function of all previously predicted integers in the sequence, and the attention inside the Transformer modules gets very expensive.\n",
    "\n",
    "**k-means codebook strategy**\n",
    "Instead, the Image GPT strategy is to encode every individual RGB pixel into a codebook of 512 entries, which we train via the k-means clustering algorithm. This way, we only have a 32\\*32 = 1024-long sequence, but now of integers in the range 0..511. This is a net saving in compute because we're \"shrunk\" the sequence length by a factor of 3. On the other hand, our token encoding embedding parameters grow a bit in size, as well as the size of the Softmax classifier at the end.\n",
    "\n",
    "Okay let's train our codebook with k-means now"
   ]
  },
  {
   "cell_type": "code",
   "execution_count": 7,
   "metadata": {},
   "outputs": [
    {
     "name": "stdout",
     "output_type": "stream",
     "text": [
      "torch.Size([250000, 3])\n"
     ]
    }
   ],
   "source": [
    "# get random 5 pixels per image and stack them all up as rgb values to get half a million random pixels\n",
    "pluck_rgb = lambda x: torch.from_numpy(np.array(x)).view(32*32, 3)[torch.randperm(32*32)[:5], :]\n",
    "px = torch.cat([pluck_rgb(x) for x, y in train_data], dim=0).float()\n",
    "print(px.size())"
   ]
  },
  {
   "cell_type": "code",
   "execution_count": 8,
   "metadata": {},
   "outputs": [
    {
     "name": "stdout",
     "output_type": "stream",
     "text": [
      "done step 1/8, re-initialized 4 dead clusters\n",
      "done step 2/8, re-initialized 0 dead clusters\n",
      "done step 3/8, re-initialized 0 dead clusters\n",
      "done step 4/8, re-initialized 0 dead clusters\n",
      "done step 5/8, re-initialized 0 dead clusters\n",
      "done step 6/8, re-initialized 0 dead clusters\n",
      "done step 7/8, re-initialized 0 dead clusters\n",
      "done step 8/8, re-initialized 0 dead clusters\n",
      "torch.Size([512, 3])\n"
     ]
    }
   ],
   "source": [
    "# run kmeans to get our codebook\n",
    "\n",
    "def kmeans(x, ncluster, niter=10):\n",
    "    N, D = x.size()\n",
    "    c = x[torch.randperm(N)[:ncluster]] # init clusters at random\n",
    "    for i in range(niter):\n",
    "        # assign all pixels to the closest codebook element\n",
    "        a = ((x[:, None, :] - c[None, :, :])**2).sum(-1).argmin(1)\n",
    "        # move each codebook element to be the mean of the pixels that assigned to it\n",
    "        c = torch.stack([x[a==k].mean(0) for k in range(ncluster)])\n",
    "        # re-assign any poorly positioned codebook elements\n",
    "        nanix = torch.any(torch.isnan(c), dim=1)\n",
    "        ndead = nanix.sum().item()\n",
    "        print('done step %d/%d, re-initialized %d dead clusters' % (i+1, niter, ndead))\n",
    "        c[nanix] = x[torch.randperm(N)[:ndead]] # re-init dead clusters\n",
    "    return c\n",
    "\n",
    "ncluster = 512\n",
    "with torch.no_grad():\n",
    "    C = kmeans(px, ncluster, niter=8)\n",
    "\n",
    "print(C.size())"
   ]
  },
  {
   "cell_type": "code",
   "execution_count": 9,
   "metadata": {},
   "outputs": [
    {
     "data": {
      "image/png": "[encoded data removed]",
      "text/plain": [
       "<Figure size 1440x720 with 16 Axes>"
      ]
     },
     "metadata": {
      "needs_background": "light"
     },
     "output_type": "display_data"
    }
   ],
   "source": [
    "# encode the training examples with our codebook to visualize how much we've lost in the discretization\n",
    "n_samples = 16\n",
    "ncol = 8\n",
    "nrow = n_samples // ncol + 1\n",
    "plt.figure(figsize=(20, 10))\n",
    "for i in range(n_samples):\n",
    "    \n",
    "    # encode and decode random data\n",
    "    x, y = train_data[np.random.randint(0, len(train_data))]\n",
    "    xpt = torch.from_numpy(np.array(x)).float().view(32*32, 3)\n",
    "    ix = ((xpt[:, None, :] - C[None, :, :])**2).sum(-1).argmin(1) # cluster assignments for each pixel\n",
    "    \n",
    "    # these images should look normal ideally\n",
    "    plt.subplot(nrow, ncol, i+1)\n",
    "    plt.imshow(C[ix].view(32, 32, 3).numpy().astype(np.uint8))\n",
    "    plt.axis('off')"
   ]
  },
  {
   "cell_type": "markdown",
   "metadata": {},
   "source": [
    "The images above look relatively reasonable, so our 512-sized codebook is enough to reasonably re-represent RGB values. Ok cool. So now every image is just a 1024-long sequence of numbers between 0..511. Time to train a GPT."
   ]
  },
  {
   "cell_type": "code",
   "execution_count": 10,
   "metadata": {},
   "outputs": [
    {
     "data": {
      "text/plain": [
       "tensor([449, 229, 229,  ..., 379,   0, 177])"
      ]
     },
     "execution_count": 10,
     "metadata": {},
     "output_type": "execute_result"
    }
   ],
   "source": [
    "from torch.utils.data import Dataset\n",
    "\n",
    "class ImageDataset(Dataset):\n",
    "    \"\"\"\n",
    "    wrap up the pytorch CIFAR-10 dataset into our own, which will convert images into sequences of integers\n",
    "    \"\"\"\n",
    "    \n",
    "    def __init__(self, pt_dataset, clusters, perm=None):\n",
    "        self.pt_dataset = pt_dataset\n",
    "        self.clusters = clusters\n",
    "        self.perm = torch.arange(32*32) if perm is None else perm\n",
    "        \n",
    "        self.vocab_size = clusters.size(0)\n",
    "        self.block_size = 32*32 - 1\n",
    "        \n",
    "    def __len__(self):\n",
    "        return len(self.pt_dataset)\n",
    "\n",
    "    def __getitem__(self, idx):\n",
    "        x, y = self.pt_dataset[idx]\n",
    "        x = torch.from_numpy(np.array(x)).view(-1, 3) # flatten out all pixels\n",
    "        x = x[self.perm].float() # reshuffle pixels with any fixed permutation and -> float\n",
    "        a = ((x[:, None, :] - self.clusters[None, :, :])**2).sum(-1).argmin(1) # cluster assignments\n",
    "        return a[:-1], a[1:] # always just predict the next one in the sequence\n",
    "\n",
    "train_dataset = ImageDataset(train_data, C)\n",
    "test_dataset = ImageDataset(test_data, C)\n",
    "train_dataset[0][0] # one example image flattened out into integers"
   ]
  },
  {
   "cell_type": "markdown",
   "metadata": {},
   "source": [
    "\n",
    "For reference, **iGPT-S** from the paper is:\n",
    "- batch size of 128 and trained for 1M terations\n",
    "- Adam lr 0.003 with betas = (0.9, 0.95)\n",
    "- learning rate is warmed up for one epoch, then decays to 0\n",
    "- did not use weight decay or dropout\n",
    "- `n_layer=24, n_head=8, n_embd=512`\n",
    "\n",
    "We will do something similar but smaller"
   ]
  },
  {
   "cell_type": "code",
   "execution_count": 11,
   "metadata": {},
   "outputs": [
    {
     "name": "stderr",
     "output_type": "stream",
     "text": [
      "09/27/2021 08:57:38 - INFO - absl -   Starting the local TPU driver.\n",
      "09/27/2021 08:57:38 - INFO - absl -   Unable to initialize backend 'tpu_driver': Not found: Unable to find driver in registry given worker: local://\n",
      "09/27/2021 08:57:38 - INFO - absl -   Unable to initialize backend 'tpu': tpu_client_timer_callback() got an unexpected keyword argument 'timer'\n"
     ]
    }
   ],
   "source": [
    "from mingpt.model import gpt, loss_fn, GPTConfig\n",
    "\n",
    "# we'll do something a bit smaller\n",
    "rng = jax.random.PRNGKey(42)\n",
    "gpt_config = GPTConfig(train_dataset.vocab_size, train_dataset.block_size,\n",
    "                  embd_pdrop=0.0, resid_pdrop=0.0, attn_pdrop=0.0,\n",
    "                  n_layer=12, n_head=8, n_embd=256)\n",
    "hk_loss_fn = hk.transform(partial(loss_fn, config=gpt_config, is_training=True))"
   ]
  },
  {
   "cell_type": "code",
   "execution_count": 12,
   "metadata": {},
   "outputs": [],
   "source": [
    "from mingpt.trainer import Trainer, TrainerConfig\n",
    "\n",
    "\"\"\"\n",
    "Note that I am running on an 8-GPU V100 machine so each GPU has 32GB.\n",
    "If you don't have as many computational resources you have to bring down\n",
    "the batch_size until the model fits into your memory, and then you may\n",
    "also need to adjust the learning rate (e.g. decrease it a bit). Alternatively,\n",
    "you can use an even smaller model up above, bringing down the number of layers,\n",
    "number of heads, and the embedding size.\n",
    "\"\"\"\n",
    "\n",
    "tokens_per_epoch = len(train_data) * train_dataset.block_size\n",
    "train_epochs = 20 # todo run a bigger model and longer, this is tiny\n",
    "\n",
    "# initialize a trainer instance and kick off training\n",
    "rng, subkey = jax.random.split(rng)\n",
    "tconf = TrainerConfig(max_epochs=train_epochs, batch_size=16*8//2//2, learning_rate=3e-3/2,\n",
    "                      betas = (0.9, 0.95), weight_decay=0,\n",
    "                      lr_decay=True, warmup_tokens=tokens_per_epoch, final_tokens=train_epochs*tokens_per_epoch,\n",
    "                      ckpt_path='./cifar10_model',\n",
    "                      num_workers=8, rng=subkey)\n",
    "trainer = Trainer(hk_loss_fn, train_dataset, test_dataset, tconf)"
   ]
  },
  {
   "cell_type": "code",
   "execution_count": 13,
   "metadata": {},
   "outputs": [
    {
     "name": "stderr",
     "output_type": "stream",
     "text": [
      "09/27/2021 08:57:50 - INFO - mingpt.trainer -   number of parameters: 9612288\n"
     ]
    }
   ],
   "source": [
    "params = trainer.init_params() "
   ]
  },
  {
   "cell_type": "code",
   "execution_count": 14,
   "metadata": {},
   "outputs": [
    {
     "name": "stderr",
     "output_type": "stream",
     "text": [
      "epoch 1 iter 1561: train loss 2.35259. lr 1.498560e-03: 100%|█████████▉| 1562/1563 [05:29<00:00,  4.75it/s]\n"
     ]
    },
    {
     "ename": "RuntimeError",
     "evalue": "Internal: stream did not block host until done; was already in an error state",
     "output_type": "error",
     "traceback": [
      "\u001b[0;31m---------------------------------------------------------------------------\u001b[0m",
      "\u001b[0;31mRuntimeError\u001b[0m                              Traceback (most recent call last)",
      "\u001b[0;32m<ipython-input-14-1fe934854fec>\u001b[0m in \u001b[0;36m<module>\u001b[0;34m\u001b[0m\n\u001b[0;32m----> 1\u001b[0;31m \u001b[0mparams\u001b[0m\u001b[0;34m,\u001b[0m \u001b[0m_\u001b[0m \u001b[0;34m=\u001b[0m \u001b[0mtrainer\u001b[0m\u001b[0;34m.\u001b[0m\u001b[0mtrain\u001b[0m\u001b[0;34m(\u001b[0m\u001b[0mparams\u001b[0m\u001b[0;34m)\u001b[0m\u001b[0;34m\u001b[0m\u001b[0;34m\u001b[0m\u001b[0m\n\u001b[0m",
      "\u001b[0;32m~/minGPT/mingpt/trainer.py\u001b[0m in \u001b[0;36mtrain\u001b[0;34m(self, params, opt_state)\u001b[0m\n\u001b[1;32m    201\u001b[0m         \u001b[0mit\u001b[0m \u001b[0;34m=\u001b[0m \u001b[0;36m0\u001b[0m \u001b[0;31m# counter used for learning rate decay\u001b[0m\u001b[0;34m\u001b[0m\u001b[0;34m\u001b[0m\u001b[0m\n\u001b[1;32m    202\u001b[0m         \u001b[0;32mfor\u001b[0m \u001b[0mepoch\u001b[0m \u001b[0;32min\u001b[0m \u001b[0mrange\u001b[0m\u001b[0;34m(\u001b[0m\u001b[0mconfig\u001b[0m\u001b[0;34m.\u001b[0m\u001b[0mmax_epochs\u001b[0m\u001b[0;34m)\u001b[0m\u001b[0;34m:\u001b[0m\u001b[0;34m\u001b[0m\u001b[0;34m\u001b[0m\u001b[0m\n\u001b[0;32m--> 203\u001b[0;31m             \u001b[0mparams\u001b[0m\u001b[0;34m,\u001b[0m \u001b[0mopt_state\u001b[0m\u001b[0;34m,\u001b[0m \u001b[0mit\u001b[0m \u001b[0;34m=\u001b[0m \u001b[0mrun_epoch\u001b[0m\u001b[0;34m(\u001b[0m\u001b[0mparams\u001b[0m\u001b[0;34m,\u001b[0m \u001b[0mopt_state\u001b[0m\u001b[0;34m,\u001b[0m \u001b[0mit\u001b[0m\u001b[0;34m,\u001b[0m \u001b[0;34m'train'\u001b[0m\u001b[0;34m)\u001b[0m\u001b[0;34m\u001b[0m\u001b[0;34m\u001b[0m\u001b[0m\n\u001b[0m\u001b[1;32m    204\u001b[0m             \u001b[0;32mif\u001b[0m \u001b[0mself\u001b[0m\u001b[0;34m.\u001b[0m\u001b[0mtest_dataset\u001b[0m \u001b[0;32mis\u001b[0m \u001b[0;32mnot\u001b[0m \u001b[0;32mNone\u001b[0m\u001b[0;34m:\u001b[0m\u001b[0;34m\u001b[0m\u001b[0;34m\u001b[0m\u001b[0m\n\u001b[1;32m    205\u001b[0m                 \u001b[0mtest_loss\u001b[0m \u001b[0;34m=\u001b[0m \u001b[0mrun_epoch\u001b[0m\u001b[0;34m(\u001b[0m\u001b[0mparams\u001b[0m\u001b[0;34m,\u001b[0m \u001b[0mopt_state\u001b[0m\u001b[0;34m,\u001b[0m \u001b[0;36m0\u001b[0m\u001b[0;34m,\u001b[0m \u001b[0;34m'test'\u001b[0m\u001b[0;34m)\u001b[0m\u001b[0;34m\u001b[0m\u001b[0;34m\u001b[0m\u001b[0m\n",
      "\u001b[0;32m~/minGPT/mingpt/trainer.py\u001b[0m in \u001b[0;36mrun_epoch\u001b[0;34m(params, opt_state, it, split)\u001b[0m\n\u001b[1;32m    188\u001b[0m                 \u001b[0;32mif\u001b[0m \u001b[0mis_train\u001b[0m\u001b[0;34m:\u001b[0m\u001b[0;34m\u001b[0m\u001b[0;34m\u001b[0m\u001b[0m\n\u001b[1;32m    189\u001b[0m                     \u001b[0;31m# report progress\u001b[0m\u001b[0;34m\u001b[0m\u001b[0;34m\u001b[0m\u001b[0;34m\u001b[0m\u001b[0m\n\u001b[0;32m--> 190\u001b[0;31m                     \u001b[0mpbar\u001b[0m\u001b[0;34m.\u001b[0m\u001b[0mset_description\u001b[0m\u001b[0;34m(\u001b[0m\u001b[0;34mf\"epoch {epoch+1} iter {it}: train loss {loss:.5f}. lr {lr_sheduler(it):e}\"\u001b[0m\u001b[0;34m)\u001b[0m\u001b[0;34m\u001b[0m\u001b[0;34m\u001b[0m\u001b[0m\n\u001b[0m\u001b[1;32m    191\u001b[0m                 \u001b[0mit\u001b[0m \u001b[0;34m+=\u001b[0m \u001b[0;36m1\u001b[0m\u001b[0;34m\u001b[0m\u001b[0;34m\u001b[0m\u001b[0m\n\u001b[1;32m    192\u001b[0m \u001b[0;34m\u001b[0m\u001b[0m\n",
      "\u001b[0;32m~/.anaconda/envs/mingpt/lib/python3.9/site-packages/jax/interpreters/xla.py\u001b[0m in \u001b[0;36m__format__\u001b[0;34m(self, format_spec)\u001b[0m\n\u001b[1;32m   1290\u001b[0m     \u001b[0;31m# Simulates behavior of https://github.com/numpy/numpy/pull/9883\u001b[0m\u001b[0;34m\u001b[0m\u001b[0;34m\u001b[0m\u001b[0;34m\u001b[0m\u001b[0m\n\u001b[1;32m   1291\u001b[0m     \u001b[0;32mif\u001b[0m \u001b[0mself\u001b[0m\u001b[0;34m.\u001b[0m\u001b[0mndim\u001b[0m \u001b[0;34m==\u001b[0m \u001b[0;36m0\u001b[0m\u001b[0;34m:\u001b[0m\u001b[0;34m\u001b[0m\u001b[0;34m\u001b[0m\u001b[0m\n\u001b[0;32m-> 1292\u001b[0;31m       \u001b[0;32mreturn\u001b[0m \u001b[0mformat\u001b[0m\u001b[0;34m(\u001b[0m\u001b[0mself\u001b[0m\u001b[0;34m.\u001b[0m\u001b[0m_value\u001b[0m\u001b[0;34m[\u001b[0m\u001b[0;34m(\u001b[0m\u001b[0;34m)\u001b[0m\u001b[0;34m]\u001b[0m\u001b[0;34m,\u001b[0m \u001b[0mformat_spec\u001b[0m\u001b[0;34m)\u001b[0m\u001b[0;34m\u001b[0m\u001b[0;34m\u001b[0m\u001b[0m\n\u001b[0m\u001b[1;32m   1293\u001b[0m     \u001b[0;32melse\u001b[0m\u001b[0;34m:\u001b[0m\u001b[0;34m\u001b[0m\u001b[0;34m\u001b[0m\u001b[0m\n\u001b[1;32m   1294\u001b[0m       \u001b[0;32mreturn\u001b[0m \u001b[0mformat\u001b[0m\u001b[0;34m(\u001b[0m\u001b[0mself\u001b[0m\u001b[0;34m.\u001b[0m\u001b[0m_value\u001b[0m\u001b[0;34m,\u001b[0m \u001b[0mformat_spec\u001b[0m\u001b[0;34m)\u001b[0m\u001b[0;34m\u001b[0m\u001b[0;34m\u001b[0m\u001b[0m\n",
      "\u001b[0;31mRuntimeError\u001b[0m: Internal: stream did not block host until done; was already in an error state"
     ]
    }
   ],
   "source": [
    "params, _ = trainer.train(params)"
   ]
  },
  {
   "cell_type": "code",
   "execution_count": null,
   "metadata": {},
   "outputs": [],
   "source": [
    "# load the state of the best model we've seen based on early stopping\n",
    "import pickle \n",
    "params = pickle.load(open('./cifar10_model/model.npy', \"rb\"))\n",
    "params = jax.device_put(params)"
   ]
  },
  {
   "cell_type": "code",
   "execution_count": null,
   "metadata": {
    "scrolled": false
   },
   "outputs": [],
   "source": [
    "# to sample we also have to technically \"train\" a separate model for the first token in the sequence\n",
    "# we are going to do so below simply by calculating and normalizing the histogram of the first token\n",
    "counts = torch.ones(ncluster) # start counts as 1 not zero, this is called \"smoothing\"\n",
    "rp = torch.randperm(len(train_dataset))\n",
    "nest = 5000 # how many images to use for the estimation\n",
    "for i in range(nest):\n",
    "    a, _ = train_dataset[int(rp[i])]\n",
    "    t = a[0].item() # index of first token in the sequence\n",
    "    counts[t] += 1\n",
    "prob = counts/counts.sum()"
   ]
  },
  {
   "cell_type": "code",
   "execution_count": null,
   "metadata": {},
   "outputs": [],
   "source": [
    "model = hk.transform(partial(gpt, config=gpt_config, is_training=False))\n",
    "model = hk.without_apply_rng(model).apply"
   ]
  },
  {
   "cell_type": "code",
   "execution_count": null,
   "metadata": {},
   "outputs": [],
   "source": [
    "%%time\n",
    "\n",
    "from mingpt.utils import sample\n",
    "\n",
    "n_samples = 32\n",
    "start_pixel = np.random.choice(np.arange(C.size(0)), size=(n_samples, 1), replace=True, p=prob)\n",
    "start_pixel = jnp.array(start_pixel)\n",
    "\n",
    "batched_sample = jax.vmap(partial(sample, params=params, model=model, config=gpt_config, steps=32*32-1,\n",
    "                                 temperature=1.0, sample=True, top_k=100, progress=True))\n",
    "pixels = batched_sample(x=start_pixel) # it's slow, prorobably should make batched version manually"
   ]
  },
  {
   "cell_type": "code",
   "execution_count": null,
   "metadata": {},
   "outputs": [],
   "source": [
    "# for visualization we have to invert the permutation used to produce the pixels\n",
    "iperm = torch.argsort(train_dataset.perm)\n",
    "\n",
    "pixels = torch.tensor(np.array(pixels, np.compat.long))\n",
    "ncol = 8\n",
    "nrow = n_samples // ncol\n",
    "plt.figure(figsize=(16, 8))\n",
    "for i in range(n_samples):\n",
    "    pxi = pixels[i][iperm] # note: undo the encoding permutation\n",
    "    \n",
    "    plt.subplot(nrow, ncol, i+1)\n",
    "    plt.imshow(C[pxi].view(32, 32, 3).numpy().astype(np.uint8))\n",
    "    plt.axis('off')"
   ]
  },
  {
   "cell_type": "code",
   "execution_count": null,
   "metadata": {},
   "outputs": [],
   "source": [
    "# visualize some of the learned positional embeddings, maybe they contain structure\n",
    "plt.figure(figsize=(5, 5))\n",
    "nsee = 8*8\n",
    "ncol = 8\n",
    "nrow = nsee // ncol\n",
    "for i in range(nsee):\n",
    "    \n",
    "    ci = torch.tensor(np.array(params['~']['embeddings'][ :, i]))\n",
    "    zci = torch.cat((torch.tensor([0.0]), ci)) # pre-cat a zero\n",
    "    rzci = zci[iperm] # undo the permutation to recover the pixel space of the image\n",
    "    \n",
    "    plt.subplot(nrow, ncol, i+1)\n",
    "    plt.imshow(rzci.view(32, 32).numpy())\n",
    "    plt.axis('off')"
   ]
  },
  {
   "cell_type": "code",
   "execution_count": null,
   "metadata": {},
   "outputs": [],
   "source": [
    "# huh, pretty cool! :P"
   ]
  }
 ],
 "metadata": {
  "kernelspec": {
   "display_name": "Python [conda env:mingpt]",
   "language": "python",
   "name": "conda-env-mingpt-py"
  },
  "language_info": {
   "codemirror_mode": {
    "name": "ipython",
    "version": 3
   },
   "file_extension": ".py",
   "mimetype": "text/x-python",
   "name": "python",
   "nbconvert_exporter": "python",
   "pygments_lexer": "ipython3",
   "version": "3.9.5"
  },
  "toc": {
   "base_numbering": 1,
   "nav_menu": {},
   "number_sections": true,
   "sideBar": true,
   "skip_h1_title": false,
   "title_cell": "Table of Contents",
   "title_sidebar": "Contents",
   "toc_cell": false,
   "toc_position": {},
   "toc_section_display": true,
   "toc_window_display": false
  }
 },
 "nbformat": 4,
 "nbformat_minor": 4
}

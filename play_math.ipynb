{
 "cells": [
  {
   "cell_type": "markdown",
   "metadata": {},
   "source": [
    "## Train GPT on addition\n",
    "\n",
    "Train a GPT model on a dedicated addition dataset to see if a Transformer can learn to add."
   ]
  },
  {
   "cell_type": "code",
   "execution_count": 1,
   "metadata": {},
   "outputs": [],
   "source": [
    "# set up logging\n",
    "import logging\n",
    "logging.basicConfig(\n",
    "        format=\"%(asctime)s - %(levelname)s - %(name)s -   %(message)s\",\n",
    "        datefmt=\"%m/%d/%Y %H:%M:%S\",\n",
    "        level=logging.INFO,\n",
    ")"
   ]
  },
  {
   "cell_type": "code",
   "execution_count": 2,
   "metadata": {},
   "outputs": [],
   "source": [
    "# make deterministic\n",
    "from mingpt.utils import set_seed\n",
    "set_seed(42)"
   ]
  },
  {
   "cell_type": "code",
   "execution_count": 3,
   "metadata": {},
   "outputs": [],
   "source": [
    "import jax\n",
    "import jax.numpy as jnp\n",
    "import haiku as hk"
   ]
  },
  {
   "cell_type": "code",
   "execution_count": 4,
   "metadata": {},
   "outputs": [
    {
     "name": "stderr",
     "output_type": "stream",
     "text": [
      "10/13/2021 16:29:01 - INFO - absl -   Starting the local TPU driver.\n",
      "10/13/2021 16:29:01 - INFO - absl -   Unable to initialize backend 'tpu_driver': Not found: Unable to find driver in registry given worker: local://\n",
      "10/13/2021 16:29:01 - INFO - absl -   Unable to initialize backend 'tpu': tpu_client_timer_callback() got an unexpected keyword argument 'timer'\n"
     ]
    },
    {
     "data": {
      "text/plain": [
       "'gpu'"
      ]
     },
     "execution_count": 4,
     "metadata": {},
     "output_type": "execute_result"
    }
   ],
   "source": [
    "jax.default_backend()"
   ]
  },
  {
   "cell_type": "code",
   "execution_count": 5,
   "metadata": {},
   "outputs": [],
   "source": [
    "from tqdm import tqdm\n",
    "import math\n",
    "import numpy as np\n",
    "from typing import Mapping\n",
    "import functools\n",
    "from functools import partial\n",
    "\n",
    "import torch\n",
    "from torch.utils.data import Dataset"
   ]
  },
  {
   "cell_type": "code",
   "execution_count": 6,
   "metadata": {},
   "outputs": [],
   "source": [
    "from torch.utils.data import Dataset\n",
    "\n",
    "class AdditionDataset(Dataset):\n",
    "    \"\"\"\n",
    "    Returns addition problems of up to some number of digits in the inputs. Recall\n",
    "    that all GPT cares about are sequences of integers, and completing them according to\n",
    "    patterns in the data. Therefore, we have to somehow encode addition problems\n",
    "    as a sequence of integers.\n",
    "    \n",
    "    The sum of two n-digit numbers gives a third up to (n+1)-digit number. So our\n",
    "    encoding will simply be the n-digit first number, n-digit second number, \n",
    "    and (n+1)-digit result, all simply concatenated together. Because each addition\n",
    "    problem is so structured, there is no need to bother the model with encoding\n",
    "    +, =, or other tokens. Each possible sequence has the same length, and simply\n",
    "    contains the raw digits of the addition problem.\n",
    "    \n",
    "    As a few examples, the 2-digit problems:\n",
    "    - 85 + 50 = 135 becomes the sequence [8, 5, 5, 0, 1, 3, 5]\n",
    "    - 6 + 39 = 45 becomes the sequence [0, 6, 3, 9, 0, 4, 5]\n",
    "    etc.\n",
    "    \n",
    "    We will also only train GPT on the final (n+1)-digits because the first\n",
    "    two n-digits are always assumed to be given. So when we give GPT an exam later,\n",
    "    we will e.g. feed it the sequence [0, 6, 3, 9], which encodes that we'd like\n",
    "    to add 6 + 39, and hope that the model completes the integer sequence with [0, 4, 5]\n",
    "    in 3 sequential steps.\n",
    "    \n",
    "    fun exercise: does it help if the result is asked to be produced in reverse order?\n",
    "    \"\"\"\n",
    "\n",
    "    def __init__(self, ndigit, split):\n",
    "        self.split = split # train/test\n",
    "        self.ndigit = ndigit\n",
    "        self.vocab_size = 10 # 10 possible digits 0..9\n",
    "        # +1 due to potential carry overflow, but then -1 because very last digit doesn't plug back\n",
    "        self.block_size = ndigit + ndigit + ndigit + 1 - 1\n",
    "        \n",
    "        # split up all addition problems into either training data or test data\n",
    "        num = (10**self.ndigit)**2 # total number of possible combinations\n",
    "        r = np.random.RandomState(1337) # make deterministic\n",
    "        perm = r.permutation(num)\n",
    "        num_test = min(int(num*0.2), 1000) # 20% of the whole dataset, or only up to 1000\n",
    "        self.ixes = perm[:num_test] if split == 'test' else perm[num_test:]\n",
    "\n",
    "    def __len__(self):\n",
    "        return self.ixes.size\n",
    "\n",
    "    def __getitem__(self, idx):\n",
    "        # given a problem index idx, first recover the associated a + b\n",
    "        idx = self.ixes[idx]\n",
    "        nd = 10**self.ndigit\n",
    "        a = idx // nd\n",
    "        b = idx %  nd\n",
    "        c = a + b\n",
    "        render = f'%0{self.ndigit}d%0{self.ndigit}d%0{self.ndigit+1}d' % (a,b,c) # e.g. 03+25=28 becomes \"0325028\" \n",
    "        dix = [int(s) for s in render] # convert each character to its token index\n",
    "        # x will be input to GPT and y will be the associated expected outputs\n",
    "        x = torch.tensor(dix[:-1], dtype=torch.long)\n",
    "        y = torch.tensor(dix[1:], dtype=torch.long) # predict the next token in the sequence\n",
    "        y[:self.ndigit*2-1] = -100 # we will only train in the output locations. -100 will mask loss to zero\n",
    "        return x, y\n"
   ]
  },
  {
   "cell_type": "code",
   "execution_count": 7,
   "metadata": {},
   "outputs": [],
   "source": [
    "# create a dataset for e.g. 2-digit addition\n",
    "ndigit = 2\n",
    "train_dataset = AdditionDataset(ndigit=ndigit, split='train')\n",
    "test_dataset = AdditionDataset(ndigit=ndigit, split='test')"
   ]
  },
  {
   "cell_type": "code",
   "execution_count": 8,
   "metadata": {},
   "outputs": [
    {
     "data": {
      "text/plain": [
       "(tensor([4, 7, 1, 7, 0, 6]), tensor([-100, -100, -100,    0,    6,    4]))"
      ]
     },
     "execution_count": 8,
     "metadata": {},
     "output_type": "execute_result"
    }
   ],
   "source": [
    "train_dataset[0] # sample a training instance just to see what one raw example looks like"
   ]
  },
  {
   "cell_type": "code",
   "execution_count": 9,
   "metadata": {},
   "outputs": [],
   "source": [
    "from mingpt.model import gpt, loss_fn, GPTConfig\n",
    "\n",
    "rng = jax.random.PRNGKey(42)\n",
    "# initialize a baby GPT model\n",
    "gpt_config = GPTConfig(train_dataset.vocab_size, train_dataset.block_size, \n",
    "                  n_layer=2, n_head=4, n_embd=128)\n",
    "hk_loss_fn = hk.transform(partial(loss_fn, config=gpt_config, is_training=True))"
   ]
  },
  {
   "cell_type": "code",
   "execution_count": 10,
   "metadata": {
    "scrolled": true
   },
   "outputs": [],
   "source": [
    "from mingpt.trainer import Trainer, TrainerConfig\n",
    "\n",
    "# initialize a trainer instance and kick off training\n",
    "rng, subkey = jax.random.split(rng)\n",
    "tconf = TrainerConfig(max_epochs=50, batch_size=512//2, learning_rate=6e-4*3,\n",
    "                      lr_decay=True, warmup_tokens=1024, final_tokens=50*len(train_dataset)*(ndigit+1),\n",
    "                      num_workers=4, rng=subkey, step_tokens=3)\n",
    "trainer = Trainer(hk_loss_fn, train_dataset, test_dataset, tconf)"
   ]
  },
  {
   "cell_type": "code",
   "execution_count": 11,
   "metadata": {},
   "outputs": [
    {
     "name": "stderr",
     "output_type": "stream",
     "text": [
      "10/13/2021 16:29:08 - INFO - mingpt.trainer -   number of parameters: 402820\n"
     ]
    }
   ],
   "source": [
    "params = trainer.init_params() "
   ]
  },
  {
   "cell_type": "code",
   "execution_count": 12,
   "metadata": {
    "scrolled": false
   },
   "outputs": [
    {
     "name": "stderr",
     "output_type": "stream",
     "text": [
      "epoch 1 iter 35: train loss 1.46541. lr 1.798369e-03: 100%|██████████| 36/36 [00:14<00:00,  2.49it/s]\n",
      "10/13/2021 16:29:25 - INFO - mingpt.trainer -   test loss: 1.5626585483551025\n",
      "epoch 2 iter 71: train loss 1.27632. lr 1.793022e-03: 100%|██████████| 36/36 [00:00<00:00, 39.11it/s]\n",
      "10/13/2021 16:29:27 - INFO - mingpt.trainer -   test loss: 1.290653109550476\n",
      "epoch 3 iter 107: train loss 1.34391. lr 1.783974e-03: 100%|██████████| 36/36 [00:00<00:00, 38.54it/s]\n",
      "10/13/2021 16:29:28 - INFO - mingpt.trainer -   test loss: 1.310362696647644\n",
      "epoch 4 iter 143: train loss 1.11753. lr 1.771263e-03: 100%|██████████| 36/36 [00:00<00:00, 38.17it/s]\n",
      "10/13/2021 16:29:30 - INFO - mingpt.trainer -   test loss: 1.1678729057312012\n",
      "epoch 5 iter 179: train loss 1.06564. lr 1.754941e-03: 100%|██████████| 36/36 [00:00<00:00, 38.94it/s]\n",
      "10/13/2021 16:29:31 - INFO - mingpt.trainer -   test loss: 1.1443767547607422\n",
      "epoch 6 iter 215: train loss 1.04948. lr 1.735076e-03: 100%|██████████| 36/36 [00:00<00:00, 38.61it/s]\n",
      "10/13/2021 16:29:33 - INFO - mingpt.trainer -   test loss: 1.0847418308258057\n",
      "epoch 7 iter 251: train loss 0.94296. lr 1.711749e-03: 100%|██████████| 36/36 [00:00<00:00, 37.57it/s]\n",
      "10/13/2021 16:29:34 - INFO - mingpt.trainer -   test loss: 1.0420434474945068\n",
      "epoch 8 iter 287: train loss 1.08863. lr 1.685058e-03: 100%|██████████| 36/36 [00:00<00:00, 36.74it/s]\n",
      "10/13/2021 16:29:36 - INFO - mingpt.trainer -   test loss: 0.8594751954078674\n",
      "epoch 9 iter 323: train loss 0.65924. lr 1.655114e-03: 100%|██████████| 36/36 [00:00<00:00, 37.99it/s]\n",
      "10/13/2021 16:29:37 - INFO - mingpt.trainer -   test loss: 0.63396155834198\n",
      "epoch 10 iter 359: train loss 0.52037. lr 1.622040e-03: 100%|██████████| 36/36 [00:00<00:00, 38.01it/s]\n",
      "10/13/2021 16:29:39 - INFO - mingpt.trainer -   test loss: 0.5930140018463135\n",
      "epoch 11 iter 395: train loss 0.40223. lr 1.585974e-03: 100%|██████████| 36/36 [00:00<00:00, 37.89it/s]\n",
      "10/13/2021 16:29:40 - INFO - mingpt.trainer -   test loss: 0.5764166712760925\n",
      "epoch 12 iter 431: train loss 0.46768. lr 1.547064e-03: 100%|██████████| 36/36 [00:00<00:00, 38.77it/s]\n",
      "10/13/2021 16:29:42 - INFO - mingpt.trainer -   test loss: 0.40673843026161194\n",
      "epoch 13 iter 467: train loss 0.55170. lr 1.505474e-03: 100%|██████████| 36/36 [00:00<00:00, 37.65it/s]\n",
      "10/13/2021 16:29:43 - INFO - mingpt.trainer -   test loss: 0.4981696605682373\n",
      "epoch 14 iter 503: train loss 0.42138. lr 1.461373e-03: 100%|██████████| 36/36 [00:00<00:00, 37.91it/s]\n",
      "10/13/2021 16:29:45 - INFO - mingpt.trainer -   test loss: 0.3572346568107605\n",
      "epoch 15 iter 539: train loss 0.38851. lr 1.414946e-03: 100%|██████████| 36/36 [00:00<00:00, 37.76it/s]\n",
      "10/13/2021 16:29:46 - INFO - mingpt.trainer -   test loss: 0.4027044177055359\n",
      "epoch 16 iter 575: train loss 0.27767. lr 1.366385e-03: 100%|██████████| 36/36 [00:00<00:00, 38.23it/s]\n",
      "10/13/2021 16:29:48 - INFO - mingpt.trainer -   test loss: 0.3564088046550751\n",
      "epoch 17 iter 611: train loss 0.33358. lr 1.315891e-03: 100%|██████████| 36/36 [00:00<00:00, 39.57it/s]\n",
      "10/13/2021 16:29:49 - INFO - mingpt.trainer -   test loss: 0.3631722331047058\n",
      "epoch 18 iter 647: train loss 0.35424. lr 1.263673e-03: 100%|██████████| 36/36 [00:00<00:00, 37.85it/s]\n",
      "10/13/2021 16:29:51 - INFO - mingpt.trainer -   test loss: 0.30271804332733154\n",
      "epoch 19 iter 683: train loss 0.34510. lr 1.209948e-03: 100%|██████████| 36/36 [00:00<00:00, 37.25it/s]\n",
      "10/13/2021 16:29:52 - INFO - mingpt.trainer -   test loss: 0.2503788471221924\n",
      "epoch 20 iter 719: train loss 0.21074. lr 1.154938e-03: 100%|██████████| 36/36 [00:00<00:00, 38.63it/s]\n",
      "10/13/2021 16:29:54 - INFO - mingpt.trainer -   test loss: 0.22491520643234253\n",
      "epoch 21 iter 755: train loss 0.13810. lr 1.098872e-03: 100%|██████████| 36/36 [00:00<00:00, 38.77it/s]\n",
      "10/13/2021 16:29:55 - INFO - mingpt.trainer -   test loss: 0.2785564959049225\n",
      "epoch 22 iter 791: train loss 0.25396. lr 1.041982e-03: 100%|██████████| 36/36 [00:00<00:00, 38.59it/s]\n",
      "10/13/2021 16:29:57 - INFO - mingpt.trainer -   test loss: 0.20785236358642578\n",
      "epoch 23 iter 827: train loss 0.20193. lr 9.845028e-04: 100%|██████████| 36/36 [00:00<00:00, 39.13it/s]\n",
      "10/13/2021 16:29:58 - INFO - mingpt.trainer -   test loss: 0.21420244872570038\n",
      "epoch 24 iter 863: train loss 0.11598. lr 9.266737e-04: 100%|██████████| 36/36 [00:00<00:00, 38.28it/s]\n",
      "10/13/2021 16:30:00 - INFO - mingpt.trainer -   test loss: 0.21324022114276886\n",
      "epoch 25 iter 899: train loss 0.25399. lr 8.687341e-04: 100%|██████████| 36/36 [00:00<00:00, 38.00it/s]\n",
      "10/13/2021 16:30:01 - INFO - mingpt.trainer -   test loss: 0.13721686601638794\n",
      "epoch 26 iter 935: train loss 0.32133. lr 8.109242e-04: 100%|██████████| 36/36 [00:00<00:00, 37.84it/s]\n",
      "10/13/2021 16:30:03 - INFO - mingpt.trainer -   test loss: 0.2357245534658432\n",
      "epoch 27 iter 971: train loss 0.16951. lr 7.534833e-04: 100%|██████████| 36/36 [00:00<00:00, 38.83it/s]\n",
      "10/13/2021 16:30:04 - INFO - mingpt.trainer -   test loss: 0.14085644483566284\n",
      "epoch 28 iter 1007: train loss 0.14194. lr 6.966497e-04: 100%|██████████| 36/36 [00:00<00:00, 37.66it/s]\n",
      "10/13/2021 16:30:06 - INFO - mingpt.trainer -   test loss: 0.1494862139225006\n",
      "epoch 29 iter 1043: train loss 0.17027. lr 6.406588e-04: 100%|██████████| 36/36 [00:00<00:00, 37.95it/s]\n",
      "10/13/2021 16:30:07 - INFO - mingpt.trainer -   test loss: 0.1668592393398285\n",
      "epoch 30 iter 1079: train loss 0.04544. lr 5.857429e-04: 100%|██████████| 36/36 [00:00<00:00, 37.34it/s]\n",
      "10/13/2021 16:30:09 - INFO - mingpt.trainer -   test loss: 0.16924886405467987\n",
      "epoch 31 iter 1115: train loss 0.07289. lr 5.321293e-04: 100%|██████████| 36/36 [00:00<00:00, 37.58it/s]\n",
      "10/13/2021 16:30:10 - INFO - mingpt.trainer -   test loss: 0.14127247035503387\n",
      "epoch 32 iter 1151: train loss 0.10941. lr 4.800402e-04: 100%|██████████| 36/36 [00:00<00:00, 37.84it/s]\n",
      "10/13/2021 16:30:12 - INFO - mingpt.trainer -   test loss: 0.17685994505882263\n",
      "epoch 33 iter 1187: train loss 0.05782. lr 4.296919e-04: 100%|██████████| 36/36 [00:00<00:00, 37.98it/s]\n",
      "10/13/2021 16:30:13 - INFO - mingpt.trainer -   test loss: 0.09653464704751968\n",
      "epoch 34 iter 1223: train loss 0.14490. lr 3.812925e-04: 100%|██████████| 36/36 [00:00<00:00, 37.13it/s]\n",
      "10/13/2021 16:30:15 - INFO - mingpt.trainer -   test loss: 0.11832784116268158\n",
      "epoch 35 iter 1259: train loss 0.04188. lr 3.350432e-04: 100%|██████████| 36/36 [00:00<00:00, 37.21it/s]\n",
      "10/13/2021 16:30:16 - INFO - mingpt.trainer -   test loss: 0.11007323861122131\n",
      "epoch 36 iter 1295: train loss 0.11529. lr 2.911352e-04: 100%|██████████| 36/36 [00:00<00:00, 37.22it/s]\n",
      "10/13/2021 16:30:18 - INFO - mingpt.trainer -   test loss: 0.13046106696128845\n",
      "epoch 37 iter 1331: train loss 0.03595. lr 2.497504e-04: 100%|██████████| 36/36 [00:00<00:00, 38.94it/s]\n",
      "10/13/2021 16:30:19 - INFO - mingpt.trainer -   test loss: 0.13305112719535828\n",
      "epoch 38 iter 1367: train loss 0.12817. lr 2.110608e-04: 100%|██████████| 36/36 [00:00<00:00, 37.36it/s]\n",
      "10/13/2021 16:30:21 - INFO - mingpt.trainer -   test loss: 0.10082439333200455\n",
      "epoch 39 iter 1403: train loss 0.04373. lr 1.800000e-04: 100%|██████████| 36/36 [00:00<00:00, 37.21it/s]\n",
      "10/13/2021 16:30:22 - INFO - mingpt.trainer -   test loss: 0.0664927139878273\n",
      "epoch 40 iter 1439: train loss 0.03995. lr 1.800000e-04: 100%|██████████| 36/36 [00:00<00:00, 37.57it/s]\n",
      "10/13/2021 16:30:24 - INFO - mingpt.trainer -   test loss: 0.1063394844532013\n",
      "epoch 41 iter 1475: train loss 0.04716. lr 1.800000e-04: 100%|██████████| 36/36 [00:00<00:00, 38.76it/s]\n",
      "10/13/2021 16:30:25 - INFO - mingpt.trainer -   test loss: 0.07675430178642273\n",
      "epoch 42 iter 1511: train loss 0.10806. lr 1.800000e-04: 100%|██████████| 36/36 [00:00<00:00, 38.42it/s]\n",
      "10/13/2021 16:30:27 - INFO - mingpt.trainer -   test loss: 0.08994637429714203\n",
      "epoch 43 iter 1547: train loss 0.06488. lr 1.800000e-04: 100%|██████████| 36/36 [00:00<00:00, 38.36it/s]\n",
      "10/13/2021 16:30:28 - INFO - mingpt.trainer -   test loss: 0.10264044255018234\n",
      "epoch 44 iter 1583: train loss 0.02962. lr 1.800000e-04: 100%|██████████| 36/36 [00:00<00:00, 38.61it/s]\n",
      "10/13/2021 16:30:30 - INFO - mingpt.trainer -   test loss: 0.04971454292535782\n",
      "epoch 45 iter 1619: train loss 0.13594. lr 1.800000e-04: 100%|██████████| 36/36 [00:00<00:00, 38.06it/s]\n",
      "10/13/2021 16:30:31 - INFO - mingpt.trainer -   test loss: 0.0934525579214096\n"
     ]
    },
    {
     "name": "stderr",
     "output_type": "stream",
     "text": [
      "epoch 46 iter 1655: train loss 0.04204. lr 1.800000e-04: 100%|██████████| 36/36 [00:00<00:00, 38.95it/s]\n",
      "10/13/2021 16:30:33 - INFO - mingpt.trainer -   test loss: 0.0796477422118187\n",
      "epoch 47 iter 1691: train loss 0.10937. lr 1.800000e-04: 100%|██████████| 36/36 [00:00<00:00, 38.82it/s]\n",
      "10/13/2021 16:30:34 - INFO - mingpt.trainer -   test loss: 0.056865543127059937\n",
      "epoch 48 iter 1727: train loss 0.19463. lr 1.800000e-04: 100%|██████████| 36/36 [00:00<00:00, 38.02it/s]\n",
      "10/13/2021 16:30:36 - INFO - mingpt.trainer -   test loss: 0.0639864131808281\n",
      "epoch 49 iter 1763: train loss 0.14033. lr 1.800000e-04: 100%|██████████| 36/36 [00:00<00:00, 37.68it/s]\n",
      "10/13/2021 16:30:37 - INFO - mingpt.trainer -   test loss: 0.054825134575366974\n",
      "epoch 50 iter 1799: train loss 0.18368. lr 1.800000e-04: 100%|██████████| 36/36 [00:00<00:00, 38.26it/s]\n",
      "10/13/2021 16:30:39 - INFO - mingpt.trainer -   test loss: 0.09926480054855347\n"
     ]
    }
   ],
   "source": [
    "params, _ = trainer.train(params)"
   ]
  },
  {
   "cell_type": "code",
   "execution_count": 13,
   "metadata": {},
   "outputs": [],
   "source": [
    "# now let's give the trained model an addition exam\n",
    "from torch.utils.data.dataloader import DataLoader\n",
    "from mingpt.utils import sample\n",
    "\n",
    "model = hk.transform(partial(gpt, config=gpt_config, is_training=False))\n",
    "model = hk.without_apply_rng(model).apply\n",
    "\n",
    "def give_exam(dataset, batch_size=32, max_batches=-1):\n",
    "    batch_size=1024\n",
    "    max_batches=10\n",
    "    results = []\n",
    "    loader = DataLoader(dataset, batch_size=batch_size)\n",
    "    for b, (x, y) in enumerate(loader):\n",
    "        d1d2 = jnp.array(x[:, :ndigit*2])\n",
    "        batched_sample = partial(sample, params=params, model=model, config=gpt_config, steps=ndigit+1)\n",
    "        d1d2d3 = jax.vmap(batched_sample)(x=jnp.array(d1d2))\n",
    "        #d1d2d3 = sample(params, model, gpt_config, d1d2, ndigit+1\n",
    "        d3 = d1d2d3[:, -(ndigit+1):]\n",
    "        factors = jnp.array([[10**i for i in range(ndigit+1)][::-1]])\n",
    "        # decode the integers from individual digits\n",
    "        d1i = (d1d2[:,:ndigit] * factors[:,1:]).sum(1)\n",
    "        d2i = (d1d2[:,ndigit:ndigit*2] * factors[:,1:]).sum(1)\n",
    "        d3i_pred = (d3 * factors).sum(1)\n",
    "        d3i_gt = d1i + d2i\n",
    "        correct = (d3i_pred == d3i_gt) # Software 1.0 vs. Software 2.0 fight RIGHT on this line, lol\n",
    "        for i in range(x.size(0)):\n",
    "            results.append(int(correct[i]))\n",
    "            judge = 'YEP!!!' if correct[i] else 'NOPE'\n",
    "            if not correct[i]:\n",
    "                print(\"GPT claims that %03d + %03d = %03d (gt is %03d; %s)\" \n",
    "                      % (d1i[i], d2i[i], d3i_pred[i], d3i_gt[i], judge))\n",
    "        \n",
    "        if max_batches >= 0 and b+1 >= max_batches:\n",
    "            break\n",
    "    print(\"final score: %d/%d = %.2f%% correct\" % (np.sum(results), len(results), 100*np.mean(results)))"
   ]
  },
  {
   "cell_type": "code",
   "execution_count": 14,
   "metadata": {
    "scrolled": true
   },
   "outputs": [
    {
     "name": "stdout",
     "output_type": "stream",
     "text": [
      "GPT claims that 094 + 014 = 107 (gt is 108; NOPE)\n",
      "GPT claims that 045 + 055 = 090 (gt is 100; NOPE)\n",
      "final score: 8998/9000 = 99.98% correct\n"
     ]
    }
   ],
   "source": [
    "# training set: how well did we memorize?\n",
    "give_exam(train_dataset, batch_size=1024, max_batches=10)"
   ]
  },
  {
   "cell_type": "code",
   "execution_count": 15,
   "metadata": {},
   "outputs": [
    {
     "name": "stdout",
     "output_type": "stream",
     "text": [
      "GPT claims that 065 + 035 = 090 (gt is 100; NOPE)\n",
      "GPT claims that 055 + 045 = 090 (gt is 100; NOPE)\n",
      "final score: 998/1000 = 99.80% correct\n"
     ]
    }
   ],
   "source": [
    "# test set: how well did we generalize?\n",
    "give_exam(test_dataset, batch_size=1024, max_batches=-1)"
   ]
  },
  {
   "cell_type": "code",
   "execution_count": 16,
   "metadata": {},
   "outputs": [],
   "source": [
    "# well that's amusing... we're lucky, sometimes the model can't generalize a couple of test cases"
   ]
  }
 ],
 "metadata": {
  "kernelspec": {
   "display_name": "Python [conda env:mingpt]",
   "language": "python",
   "name": "conda-env-mingpt-py"
  },
  "language_info": {
   "codemirror_mode": {
    "name": "ipython",
    "version": 3
   },
   "file_extension": ".py",
   "mimetype": "text/x-python",
   "name": "python",
   "nbconvert_exporter": "python",
   "pygments_lexer": "ipython3",
   "version": "3.9.5"
  },
  "toc": {
   "base_numbering": 1,
   "nav_menu": {},
   "number_sections": true,
   "sideBar": true,
   "skip_h1_title": false,
   "title_cell": "Table of Contents",
   "title_sidebar": "Contents",
   "toc_cell": false,
   "toc_position": {},
   "toc_section_display": true,
   "toc_window_display": false
  }
 },
 "nbformat": 4,
 "nbformat_minor": 4
}

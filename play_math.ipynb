{
 "cells": [
  {
   "cell_type": "markdown",
   "metadata": {},
   "source": [
    "## Train GPT on addition\n",
    "\n",
    "Train a GPT model on a dedicated addition dataset to see if a Transformer can learn to add."
   ]
  },
  {
   "cell_type": "code",
   "execution_count": 1,
   "metadata": {},
   "outputs": [],
   "source": [
    "# set up logging\n",
    "import logging\n",
    "logging.basicConfig(\n",
    "        format=\"%(asctime)s - %(levelname)s - %(name)s -   %(message)s\",\n",
    "        datefmt=\"%m/%d/%Y %H:%M:%S\",\n",
    "        level=logging.INFO,\n",
    ")"
   ]
  },
  {
   "cell_type": "code",
   "execution_count": 2,
   "metadata": {},
   "outputs": [],
   "source": [
    "# make deterministic\n",
    "from mingpt.utils import set_seed\n",
    "set_seed(42)"
   ]
  },
  {
   "cell_type": "code",
   "execution_count": 3,
   "metadata": {},
   "outputs": [],
   "source": [
    "import jax\n",
    "import jax.numpy as jnp\n",
    "import haiku as hk"
   ]
  },
  {
   "cell_type": "code",
   "execution_count": 4,
   "metadata": {},
   "outputs": [
    {
     "name": "stderr",
     "output_type": "stream",
     "text": [
      "09/27/2021 08:39:24 - INFO - absl -   Starting the local TPU driver.\n",
      "09/27/2021 08:39:24 - INFO - absl -   Unable to initialize backend 'tpu_driver': Not found: Unable to find driver in registry given worker: local://\n",
      "09/27/2021 08:39:24 - INFO - absl -   Unable to initialize backend 'tpu': tpu_client_timer_callback() got an unexpected keyword argument 'timer'\n"
     ]
    },
    {
     "data": {
      "text/plain": [
       "'gpu'"
      ]
     },
     "execution_count": 4,
     "metadata": {},
     "output_type": "execute_result"
    }
   ],
   "source": [
    "jax.default_backend()"
   ]
  },
  {
   "cell_type": "code",
   "execution_count": 5,
   "metadata": {},
   "outputs": [],
   "source": [
    "from tqdm import tqdm\n",
    "import math\n",
    "import numpy as np\n",
    "from typing import Mapping\n",
    "import functools\n",
    "from functools import partial\n",
    "\n",
    "import torch\n",
    "from torch.utils.data import Dataset"
   ]
  },
  {
   "cell_type": "code",
   "execution_count": 6,
   "metadata": {},
   "outputs": [],
   "source": [
    "from torch.utils.data import Dataset\n",
    "\n",
    "class AdditionDataset(Dataset):\n",
    "    \"\"\"\n",
    "    Returns addition problems of up to some number of digits in the inputs. Recall\n",
    "    that all GPT cares about are sequences of integers, and completing them according to\n",
    "    patterns in the data. Therefore, we have to somehow encode addition problems\n",
    "    as a sequence of integers.\n",
    "    \n",
    "    The sum of two n-digit numbers gives a third up to (n+1)-digit number. So our\n",
    "    encoding will simply be the n-digit first number, n-digit second number, \n",
    "    and (n+1)-digit result, all simply concatenated together. Because each addition\n",
    "    problem is so structured, there is no need to bother the model with encoding\n",
    "    +, =, or other tokens. Each possible sequence has the same length, and simply\n",
    "    contains the raw digits of the addition problem.\n",
    "    \n",
    "    As a few examples, the 2-digit problems:\n",
    "    - 85 + 50 = 135 becomes the sequence [8, 5, 5, 0, 1, 3, 5]\n",
    "    - 6 + 39 = 45 becomes the sequence [0, 6, 3, 9, 0, 4, 5]\n",
    "    etc.\n",
    "    \n",
    "    We will also only train GPT on the final (n+1)-digits because the first\n",
    "    two n-digits are always assumed to be given. So when we give GPT an exam later,\n",
    "    we will e.g. feed it the sequence [0, 6, 3, 9], which encodes that we'd like\n",
    "    to add 6 + 39, and hope that the model completes the integer sequence with [0, 4, 5]\n",
    "    in 3 sequential steps.\n",
    "    \n",
    "    fun exercise: does it help if the result is asked to be produced in reverse order?\n",
    "    \"\"\"\n",
    "\n",
    "    def __init__(self, ndigit, split):\n",
    "        self.split = split # train/test\n",
    "        self.ndigit = ndigit\n",
    "        self.vocab_size = 10 # 10 possible digits 0..9\n",
    "        # +1 due to potential carry overflow, but then -1 because very last digit doesn't plug back\n",
    "        self.block_size = ndigit + ndigit + ndigit + 1 - 1\n",
    "        \n",
    "        # split up all addition problems into either training data or test data\n",
    "        num = (10**self.ndigit)**2 # total number of possible combinations\n",
    "        r = np.random.RandomState(1337) # make deterministic\n",
    "        perm = r.permutation(num)\n",
    "        num_test = min(int(num*0.2), 1000) # 20% of the whole dataset, or only up to 1000\n",
    "        self.ixes = perm[:num_test] if split == 'test' else perm[num_test:]\n",
    "\n",
    "    def __len__(self):\n",
    "        return self.ixes.size\n",
    "\n",
    "    def __getitem__(self, idx):\n",
    "        # given a problem index idx, first recover the associated a + b\n",
    "        idx = self.ixes[idx]\n",
    "        nd = 10**self.ndigit\n",
    "        a = idx // nd\n",
    "        b = idx %  nd\n",
    "        c = a + b\n",
    "        render = f'%0{self.ndigit}d%0{self.ndigit}d%0{self.ndigit+1}d' % (a,b,c) # e.g. 03+25=28 becomes \"0325028\" \n",
    "        dix = [int(s) for s in render] # convert each character to its token index\n",
    "        # x will be input to GPT and y will be the associated expected outputs\n",
    "        x = torch.tensor(dix[:-1], dtype=torch.long)\n",
    "        y = torch.tensor(dix[1:], dtype=torch.long) # predict the next token in the sequence\n",
    "        y[:self.ndigit*2-1] = -100 # we will only train in the output locations. -100 will mask loss to zero\n",
    "        return x, y\n"
   ]
  },
  {
   "cell_type": "code",
   "execution_count": 7,
   "metadata": {},
   "outputs": [],
   "source": [
    "# create a dataset for e.g. 2-digit addition\n",
    "ndigit = 2\n",
    "train_dataset = AdditionDataset(ndigit=ndigit, split='train')\n",
    "test_dataset = AdditionDataset(ndigit=ndigit, split='test')"
   ]
  },
  {
   "cell_type": "code",
   "execution_count": 8,
   "metadata": {},
   "outputs": [
    {
     "data": {
      "text/plain": [
       "(tensor([4, 7, 1, 7, 0, 6]), tensor([-100, -100, -100,    0,    6,    4]))"
      ]
     },
     "execution_count": 8,
     "metadata": {},
     "output_type": "execute_result"
    }
   ],
   "source": [
    "train_dataset[0] # sample a training instance just to see what one raw example looks like"
   ]
  },
  {
   "cell_type": "code",
   "execution_count": 9,
   "metadata": {},
   "outputs": [],
   "source": [
    "from mingpt.model import gpt, loss_fn, GPTConfig\n",
    "\n",
    "rng = jax.random.PRNGKey(42)\n",
    "# initialize a baby GPT model\n",
    "gpt_config = GPTConfig(train_dataset.vocab_size, train_dataset.block_size, \n",
    "                  n_layer=2, n_head=4, n_embd=128)\n",
    "hk_loss_fn = hk.transform(partial(loss_fn, config=gpt_config, is_training=True))"
   ]
  },
  {
   "cell_type": "code",
   "execution_count": 10,
   "metadata": {
    "scrolled": true
   },
   "outputs": [],
   "source": [
    "from mingpt.trainer import Trainer, TrainerConfig\n",
    "\n",
    "# initialize a trainer instance and kick off training\n",
    "rng, subkey = jax.random.split(rng)\n",
    "tconf = TrainerConfig(max_epochs=50, batch_size=512//2, learning_rate=6e-4,\n",
    "                      lr_decay=True, warmup_tokens=1024, final_tokens=50*len(train_dataset)*(ndigit+1),\n",
    "                      num_workers=4, rng=subkey, step_tokens=3)\n",
    "trainer = Trainer(hk_loss_fn, train_dataset, test_dataset, tconf)"
   ]
  },
  {
   "cell_type": "code",
   "execution_count": 11,
   "metadata": {},
   "outputs": [
    {
     "name": "stderr",
     "output_type": "stream",
     "text": [
      "09/27/2021 08:39:31 - INFO - mingpt.trainer -   number of parameters: 384384\n"
     ]
    }
   ],
   "source": [
    "params = trainer.init_params() "
   ]
  },
  {
   "cell_type": "code",
   "execution_count": 12,
   "metadata": {
    "scrolled": false
   },
   "outputs": [
    {
     "name": "stderr",
     "output_type": "stream",
     "text": [
      "epoch 1 iter 35: train loss 1.53915. lr 5.994563e-04: 100%|██████████| 36/36 [00:20<00:00,  1.74it/s]\n",
      "09/27/2021 08:39:55 - INFO - mingpt.trainer -   test loss: 1.5366647243499756\n",
      "epoch 2 iter 71: train loss 1.15609. lr 5.976741e-04: 100%|██████████| 36/36 [00:00<00:00, 37.42it/s]\n",
      "09/27/2021 08:39:56 - INFO - mingpt.trainer -   test loss: 1.2317906618118286\n",
      "epoch 3 iter 107: train loss 1.03235. lr 5.946582e-04: 100%|██████████| 36/36 [00:00<00:00, 37.02it/s]\n",
      "09/27/2021 08:39:58 - INFO - mingpt.trainer -   test loss: 0.9656183123588562\n",
      "epoch 4 iter 143: train loss 0.49207. lr 5.904211e-04: 100%|██████████| 36/36 [00:01<00:00, 35.54it/s]\n",
      "09/27/2021 08:40:00 - INFO - mingpt.trainer -   test loss: 0.514510452747345\n",
      "epoch 5 iter 179: train loss 0.29771. lr 5.849804e-04: 100%|██████████| 36/36 [00:00<00:00, 36.86it/s]\n",
      "09/27/2021 08:40:01 - INFO - mingpt.trainer -   test loss: 0.41415607929229736\n",
      "epoch 6 iter 215: train loss 0.33071. lr 5.783586e-04: 100%|██████████| 36/36 [00:00<00:00, 37.24it/s]\n",
      "09/27/2021 08:40:03 - INFO - mingpt.trainer -   test loss: 0.2700914442539215\n",
      "epoch 7 iter 251: train loss 0.17185. lr 5.705831e-04: 100%|██████████| 36/36 [00:00<00:00, 36.43it/s]\n",
      "09/27/2021 08:40:04 - INFO - mingpt.trainer -   test loss: 0.2299695909023285\n",
      "epoch 8 iter 287: train loss 0.26089. lr 5.616862e-04: 100%|██████████| 36/36 [00:00<00:00, 36.86it/s]\n",
      "09/27/2021 08:40:06 - INFO - mingpt.trainer -   test loss: 0.20069073140621185\n",
      "epoch 9 iter 323: train loss 0.17304. lr 5.517047e-04: 100%|██████████| 36/36 [00:00<00:00, 36.66it/s]\n",
      "09/27/2021 08:40:07 - INFO - mingpt.trainer -   test loss: 0.154044508934021\n",
      "epoch 10 iter 359: train loss 0.10441. lr 5.406801e-04: 100%|██████████| 36/36 [00:00<00:00, 36.56it/s]\n",
      "09/27/2021 08:40:09 - INFO - mingpt.trainer -   test loss: 0.11943221837282181\n",
      "epoch 11 iter 395: train loss 0.05607. lr 5.286580e-04: 100%|██████████| 36/36 [00:00<00:00, 36.17it/s]\n",
      "09/27/2021 08:40:10 - INFO - mingpt.trainer -   test loss: 0.10385574400424957\n",
      "epoch 12 iter 431: train loss 0.10452. lr 5.156882e-04: 100%|██████████| 36/36 [00:01<00:00, 35.82it/s]\n",
      "09/27/2021 08:40:12 - INFO - mingpt.trainer -   test loss: 0.1110590323805809\n",
      "epoch 13 iter 467: train loss 0.10730. lr 5.018245e-04: 100%|██████████| 36/36 [00:00<00:00, 36.28it/s]\n",
      "09/27/2021 08:40:14 - INFO - mingpt.trainer -   test loss: 0.09373751282691956\n",
      "epoch 14 iter 503: train loss 0.06567. lr 4.871244e-04: 100%|██████████| 36/36 [00:00<00:00, 36.84it/s]\n",
      "09/27/2021 08:40:15 - INFO - mingpt.trainer -   test loss: 0.07785479724407196\n",
      "epoch 15 iter 539: train loss 0.04153. lr 4.716487e-04: 100%|██████████| 36/36 [00:00<00:00, 36.51it/s]\n",
      "09/27/2021 08:40:17 - INFO - mingpt.trainer -   test loss: 0.09779046475887299\n",
      "epoch 16 iter 575: train loss 0.01170. lr 4.554616e-04: 100%|██████████| 36/36 [00:00<00:00, 37.39it/s]\n",
      "09/27/2021 08:40:18 - INFO - mingpt.trainer -   test loss: 0.05974200367927551\n",
      "epoch 17 iter 611: train loss 0.03810. lr 4.386302e-04: 100%|██████████| 36/36 [00:00<00:00, 36.91it/s]\n",
      "09/27/2021 08:40:20 - INFO - mingpt.trainer -   test loss: 0.07821449637413025\n",
      "epoch 18 iter 647: train loss 0.02100. lr 4.212243e-04: 100%|██████████| 36/36 [00:00<00:00, 36.64it/s]\n",
      "09/27/2021 08:40:21 - INFO - mingpt.trainer -   test loss: 0.04013553261756897\n",
      "epoch 19 iter 683: train loss 0.12998. lr 4.033159e-04: 100%|██████████| 36/36 [00:01<00:00, 35.66it/s]\n",
      "09/27/2021 08:40:23 - INFO - mingpt.trainer -   test loss: 0.05223316326737404\n",
      "epoch 20 iter 719: train loss 0.01539. lr 3.849794e-04: 100%|██████████| 36/36 [00:01<00:00, 35.74it/s]\n",
      "09/27/2021 08:40:25 - INFO - mingpt.trainer -   test loss: 0.03687296062707901\n",
      "epoch 21 iter 755: train loss 0.02220. lr 3.662907e-04: 100%|██████████| 36/36 [00:00<00:00, 37.27it/s]\n",
      "09/27/2021 08:40:26 - INFO - mingpt.trainer -   test loss: 0.03750981017947197\n",
      "epoch 22 iter 791: train loss 0.00504. lr 3.473272e-04: 100%|██████████| 36/36 [00:00<00:00, 36.57it/s]\n",
      "09/27/2021 08:40:28 - INFO - mingpt.trainer -   test loss: 0.03138810023665428\n",
      "epoch 23 iter 827: train loss 0.01470. lr 3.281676e-04: 100%|██████████| 36/36 [00:01<00:00, 35.98it/s]\n",
      "09/27/2021 08:40:29 - INFO - mingpt.trainer -   test loss: 0.03643583133816719\n",
      "epoch 24 iter 863: train loss 0.03374. lr 3.088913e-04: 100%|██████████| 36/36 [00:01<00:00, 35.74it/s]\n",
      "09/27/2021 08:40:31 - INFO - mingpt.trainer -   test loss: 0.16294705867767334\n",
      "epoch 25 iter 899: train loss 0.10612. lr 2.895781e-04: 100%|██████████| 36/36 [00:00<00:00, 37.07it/s]\n",
      "09/27/2021 08:40:32 - INFO - mingpt.trainer -   test loss: 0.04447415471076965\n",
      "epoch 26 iter 935: train loss 0.00923. lr 2.703081e-04: 100%|██████████| 36/36 [00:00<00:00, 36.40it/s]\n",
      "09/27/2021 08:40:34 - INFO - mingpt.trainer -   test loss: 0.04677438735961914\n",
      "epoch 27 iter 971: train loss 0.02301. lr 2.511611e-04: 100%|██████████| 36/36 [00:00<00:00, 36.19it/s]\n",
      "09/27/2021 08:40:35 - INFO - mingpt.trainer -   test loss: 0.021104665473103523\n",
      "epoch 28 iter 1007: train loss 0.08121. lr 2.322166e-04: 100%|██████████| 36/36 [00:00<00:00, 36.12it/s]\n",
      "09/27/2021 08:40:37 - INFO - mingpt.trainer -   test loss: 0.03673136979341507\n",
      "epoch 29 iter 1043: train loss 0.01302. lr 2.135530e-04: 100%|██████████| 36/36 [00:00<00:00, 37.16it/s]\n",
      "09/27/2021 08:40:39 - INFO - mingpt.trainer -   test loss: 0.03580021113157272\n",
      "epoch 30 iter 1079: train loss 0.05054. lr 1.952476e-04: 100%|██████████| 36/36 [00:00<00:00, 36.51it/s]\n",
      "09/27/2021 08:40:40 - INFO - mingpt.trainer -   test loss: 0.020268907770514488\n",
      "epoch 31 iter 1115: train loss 0.02598. lr 1.773765e-04: 100%|██████████| 36/36 [00:01<00:00, 35.23it/s]\n",
      "09/27/2021 08:40:42 - INFO - mingpt.trainer -   test loss: 0.022349627688527107\n",
      "epoch 32 iter 1151: train loss 0.01727. lr 1.600134e-04: 100%|██████████| 36/36 [00:01<00:00, 35.63it/s]\n",
      "09/27/2021 08:40:43 - INFO - mingpt.trainer -   test loss: 0.020887134596705437\n",
      "epoch 33 iter 1187: train loss 0.03037. lr 1.432306e-04: 100%|██████████| 36/36 [00:00<00:00, 36.12it/s]\n",
      "09/27/2021 08:40:45 - INFO - mingpt.trainer -   test loss: 0.013308361172676086\n",
      "epoch 34 iter 1223: train loss 0.00218. lr 1.270975e-04: 100%|██████████| 36/36 [00:00<00:00, 37.47it/s]\n",
      "09/27/2021 08:40:47 - INFO - mingpt.trainer -   test loss: 0.022814100608229637\n",
      "epoch 35 iter 1259: train loss 0.00067. lr 1.116811e-04: 100%|██████████| 36/36 [00:00<00:00, 37.03it/s]\n",
      "09/27/2021 08:40:48 - INFO - mingpt.trainer -   test loss: 0.0283631794154644\n",
      "epoch 36 iter 1295: train loss 0.01899. lr 9.704508e-05: 100%|██████████| 36/36 [00:00<00:00, 36.48it/s]\n",
      "09/27/2021 08:40:50 - INFO - mingpt.trainer -   test loss: 0.0220960583537817\n",
      "epoch 37 iter 1331: train loss 0.00252. lr 8.325014e-05: 100%|██████████| 36/36 [00:00<00:00, 36.44it/s]\n",
      "09/27/2021 08:40:51 - INFO - mingpt.trainer -   test loss: 0.020001256838440895\n",
      "epoch 38 iter 1367: train loss 0.00951. lr 7.035359e-05: 100%|██████████| 36/36 [00:00<00:00, 36.63it/s]\n",
      "09/27/2021 08:40:53 - INFO - mingpt.trainer -   test loss: 0.01418293733149767\n",
      "epoch 39 iter 1403: train loss 0.00104. lr 6.000000e-05: 100%|██████████| 36/36 [00:00<00:00, 36.72it/s]\n",
      "09/27/2021 08:40:54 - INFO - mingpt.trainer -   test loss: 0.011476486921310425\n",
      "epoch 40 iter 1439: train loss 0.00111. lr 6.000000e-05: 100%|██████████| 36/36 [00:00<00:00, 36.02it/s]\n",
      "09/27/2021 08:40:56 - INFO - mingpt.trainer -   test loss: 0.022462476044893265\n",
      "epoch 41 iter 1475: train loss 0.01963. lr 6.000000e-05: 100%|██████████| 36/36 [00:00<00:00, 36.70it/s]\n",
      "09/27/2021 08:40:58 - INFO - mingpt.trainer -   test loss: 0.03111199289560318\n",
      "epoch 42 iter 1511: train loss 0.00105. lr 6.000000e-05: 100%|██████████| 36/36 [00:00<00:00, 36.52it/s]\n",
      "09/27/2021 08:40:59 - INFO - mingpt.trainer -   test loss: 0.009430073201656342\n",
      "epoch 43 iter 1547: train loss 0.00183. lr 6.000000e-05: 100%|██████████| 36/36 [00:00<00:00, 36.84it/s]\n",
      "09/27/2021 08:41:01 - INFO - mingpt.trainer -   test loss: 0.01594565622508526\n",
      "epoch 44 iter 1583: train loss 0.00080. lr 6.000000e-05: 100%|██████████| 36/36 [00:00<00:00, 36.74it/s]\n",
      "09/27/2021 08:41:02 - INFO - mingpt.trainer -   test loss: 0.017785843461751938\n",
      "epoch 45 iter 1619: train loss 0.05551. lr 6.000000e-05: 100%|██████████| 36/36 [00:01<00:00, 35.51it/s]\n",
      "09/27/2021 08:41:04 - INFO - mingpt.trainer -   test loss: 0.016513340175151825\n"
     ]
    },
    {
     "name": "stderr",
     "output_type": "stream",
     "text": [
      "epoch 46 iter 1655: train loss 0.00053. lr 6.000000e-05: 100%|██████████| 36/36 [00:00<00:00, 37.05it/s]\n",
      "09/27/2021 08:41:05 - INFO - mingpt.trainer -   test loss: 0.008746650069952011\n",
      "epoch 47 iter 1691: train loss 0.00759. lr 6.000000e-05: 100%|██████████| 36/36 [00:00<00:00, 37.25it/s]\n",
      "09/27/2021 08:41:07 - INFO - mingpt.trainer -   test loss: 0.014044404961168766\n",
      "epoch 48 iter 1727: train loss 0.00966. lr 6.000000e-05: 100%|██████████| 36/36 [00:00<00:00, 36.96it/s]\n",
      "09/27/2021 08:41:08 - INFO - mingpt.trainer -   test loss: 0.01291092298924923\n",
      "epoch 49 iter 1763: train loss 0.00773. lr 6.000000e-05: 100%|██████████| 36/36 [00:00<00:00, 37.80it/s]\n",
      "09/27/2021 08:41:10 - INFO - mingpt.trainer -   test loss: 0.014307268895208836\n",
      "epoch 50 iter 1799: train loss 0.00182. lr 6.000000e-05: 100%|██████████| 36/36 [00:00<00:00, 36.08it/s]\n",
      "09/27/2021 08:41:11 - INFO - mingpt.trainer -   test loss: 0.011349497362971306\n"
     ]
    }
   ],
   "source": [
    "params, _ = trainer.train(params)"
   ]
  },
  {
   "cell_type": "code",
   "execution_count": 13,
   "metadata": {},
   "outputs": [],
   "source": [
    "# now let's give the trained model an addition exam\n",
    "from torch.utils.data.dataloader import DataLoader\n",
    "from mingpt.utils import sample\n",
    "\n",
    "model = hk.transform(partial(gpt, config=gpt_config, is_training=False))\n",
    "model = hk.without_apply_rng(model).apply\n",
    "\n",
    "def give_exam(dataset, batch_size=32, max_batches=-1):\n",
    "    batch_size=1024\n",
    "    max_batches=10\n",
    "    results = []\n",
    "    loader = DataLoader(dataset, batch_size=batch_size)\n",
    "    for b, (x, y) in enumerate(loader):\n",
    "        d1d2 = jnp.array(x[:, :ndigit*2])\n",
    "        batched_sample = partial(sample, params=params, model=model, config=gpt_config, steps=ndigit+1)\n",
    "        d1d2d3 = jax.vmap(batched_sample)(x=jnp.array(d1d2))\n",
    "        #d1d2d3 = sample(params, model, gpt_config, d1d2, ndigit+1\n",
    "        d3 = d1d2d3[:, -(ndigit+1):]\n",
    "        factors = jnp.array([[10**i for i in range(ndigit+1)][::-1]])\n",
    "        # decode the integers from individual digits\n",
    "        d1i = (d1d2[:,:ndigit] * factors[:,1:]).sum(1)\n",
    "        d2i = (d1d2[:,ndigit:ndigit*2] * factors[:,1:]).sum(1)\n",
    "        d3i_pred = (d3 * factors).sum(1)\n",
    "        d3i_gt = d1i + d2i\n",
    "        correct = (d3i_pred == d3i_gt) # Software 1.0 vs. Software 2.0 fight RIGHT on this line, lol\n",
    "        for i in range(x.size(0)):\n",
    "            results.append(int(correct[i]))\n",
    "            judge = 'YEP!!!' if correct[i] else 'NOPE'\n",
    "            if not correct[i]:\n",
    "                print(\"GPT claims that %03d + %03d = %03d (gt is %03d; %s)\" \n",
    "                      % (d1i[i], d2i[i], d3i_pred[i], d3i_gt[i], judge))\n",
    "        \n",
    "        if max_batches >= 0 and b+1 >= max_batches:\n",
    "            break\n",
    "    print(\"final score: %d/%d = %.2f%% correct\" % (np.sum(results), len(results), 100*np.mean(results)))"
   ]
  },
  {
   "cell_type": "code",
   "execution_count": 14,
   "metadata": {
    "scrolled": true
   },
   "outputs": [
    {
     "name": "stdout",
     "output_type": "stream",
     "text": [
      "GPT claims that 053 + 047 = 090 (gt is 100; NOPE)\n",
      "GPT claims that 058 + 042 = 090 (gt is 100; NOPE)\n",
      "GPT claims that 057 + 043 = 090 (gt is 100; NOPE)\n",
      "final score: 8997/9000 = 99.97% correct\n"
     ]
    }
   ],
   "source": [
    "# training set: how well did we memorize?\n",
    "give_exam(train_dataset, batch_size=1024, max_batches=10)"
   ]
  },
  {
   "cell_type": "code",
   "execution_count": 15,
   "metadata": {},
   "outputs": [
    {
     "name": "stdout",
     "output_type": "stream",
     "text": [
      "GPT claims that 031 + 069 = 090 (gt is 100; NOPE)\n",
      "final score: 999/1000 = 99.90% correct\n"
     ]
    }
   ],
   "source": [
    "# test set: how well did we generalize?\n",
    "give_exam(test_dataset, batch_size=1024, max_batches=-1)"
   ]
  },
  {
   "cell_type": "code",
   "execution_count": 16,
   "metadata": {},
   "outputs": [],
   "source": [
    "# well that's amusing... we're lucky, sometimes the model can't generalize a couple of test cases"
   ]
  }
 ],
 "metadata": {
  "kernelspec": {
   "display_name": "Python [conda env:mingpt]",
   "language": "python",
   "name": "conda-env-mingpt-py"
  },
  "language_info": {
   "codemirror_mode": {
    "name": "ipython",
    "version": 3
   },
   "file_extension": ".py",
   "mimetype": "text/x-python",
   "name": "python",
   "nbconvert_exporter": "python",
   "pygments_lexer": "ipython3",
   "version": "3.9.5"
  },
  "toc": {
   "base_numbering": 1,
   "nav_menu": {},
   "number_sections": true,
   "sideBar": true,
   "skip_h1_title": false,
   "title_cell": "Table of Contents",
   "title_sidebar": "Contents",
   "toc_cell": false,
   "toc_position": {},
   "toc_section_display": true,
   "toc_window_display": false
  }
 },
 "nbformat": 4,
 "nbformat_minor": 4
}
